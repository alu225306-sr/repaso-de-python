{
  "nbformat": 4,
  "nbformat_minor": 0,
  "metadata": {
    "colab": {
      "provenance": [],
      "authorship_tag": "ABX9TyNHBo5cdH/xUDpj+p5ej8qS",
      "include_colab_link": true
    },
    "kernelspec": {
      "name": "python3",
      "display_name": "Python 3"
    },
    "language_info": {
      "name": "python"
    }
  },
  "cells": [
    {
      "cell_type": "markdown",
      "metadata": {
        "id": "view-in-github",
        "colab_type": "text"
      },
      "source": [
        "<a href=\"https://colab.research.google.com/github/alu225306-sr/repaso-de-python/blob/main/3codigosjpc.ipynb\" target=\"_parent\"><img src=\"https://colab.research.google.com/assets/colab-badge.svg\" alt=\"Open In Colab\"/></a>"
      ]
    },
    {
      "cell_type": "markdown",
      "source": [
        "1.- Realizar un programa en python que te permita capturar 3 números enteros e imprima cual de los 3 es el mayor"
      ],
      "metadata": {
        "id": "Q477YHI8BOSm"
      }
    },
    {
      "cell_type": "code",
      "execution_count": 2,
      "metadata": {
        "colab": {
          "base_uri": "https://localhost:8080/"
        },
        "id": "85mYxVB9BM1P",
        "outputId": "f58222c5-de78-4f6f-b5a5-ba1e6267e43c"
      },
      "outputs": [
        {
          "output_type": "stream",
          "name": "stdout",
          "text": [
            "ingrese el primer numero: 20\n",
            "ingrese el segundo numero: 1\n",
            "ingrese el tercer numero: 2\n",
            "el numero mayor es:  20\n"
          ]
        }
      ],
      "source": [
        "num1=int(input(\"ingrese el primer numero: \"))\n",
        "num2=int(input(\"ingrese el segundo numero: \"))\n",
        "num3=int(input(\"ingrese el tercer numero: \"))\n",
        "if num1>num2 and num1>num3:\n",
        "  print(\"el numero mayor es: \",num1)\n",
        "elif num2>num1 and num2>num3:\n",
        "  print(\"el numero mayor es: \",num2)\n",
        "else:\n",
        "  print(\"el numero mayor es: \",num1)"
      ]
    },
    {
      "cell_type": "markdown",
      "source": [
        "2.- Realizar un programa en python mediante el cual calcules el total de caracteres que tiene un nombre capturado desde el teclado.\n"
      ],
      "metadata": {
        "id": "q3dym6w2BQmU"
      }
    },
    {
      "cell_type": "code",
      "source": [
        "nombre=input(\"ingrese su nombre: \")\n",
        "print(\"el numero de caracteres del nombre es: \",len(nombre))\n"
      ],
      "metadata": {
        "colab": {
          "base_uri": "https://localhost:8080/"
        },
        "id": "IkIFHQbrCQhL",
        "outputId": "4fc1b3e2-c8fc-43ca-8982-bfe8ac436472"
      },
      "execution_count": 3,
      "outputs": [
        {
          "output_type": "stream",
          "name": "stdout",
          "text": [
            "ingrese su nombre: janis\n",
            "el numero de caracteres del nombre es:  5\n"
          ]
        }
      ]
    },
    {
      "cell_type": "markdown",
      "source": [
        "3.- Realizar un programa en python que permita imprimir los 7 días de la semana.\n"
      ],
      "metadata": {
        "id": "zSprQZhgCeDK"
      }
    },
    {
      "cell_type": "code",
      "source": [
        "dias=[\"lunes\",\"martes\",\"miercoles\",\"jueves\",\"viernes\",\"sabado\",\"domingo\"]\n",
        "for dia in dias:\n",
        "  print(dia)\n"
      ],
      "metadata": {
        "colab": {
          "base_uri": "https://localhost:8080/"
        },
        "id": "EBxJpBLeCfLa",
        "outputId": "3c994c7c-1790-4719-9df5-50f6e86ac42b"
      },
      "execution_count": 4,
      "outputs": [
        {
          "output_type": "stream",
          "name": "stdout",
          "text": [
            "lunes\n",
            "martes\n",
            "miercoles\n",
            "jueves\n",
            "viernes\n",
            "sabado\n",
            "domingo\n"
          ]
        }
      ]
    }
  ]
}