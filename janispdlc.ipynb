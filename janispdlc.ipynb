{
  "nbformat": 4,
  "nbformat_minor": 0,
  "metadata": {
    "colab": {
      "provenance": [],
      "authorship_tag": "ABX9TyMYTMdGeYw2koAtrbHm1QSp",
      "include_colab_link": true
    },
    "kernelspec": {
      "name": "python3",
      "display_name": "Python 3"
    },
    "language_info": {
      "name": "python"
    }
  },
  "cells": [
    {
      "cell_type": "markdown",
      "metadata": {
        "id": "view-in-github",
        "colab_type": "text"
      },
      "source": [
        "<a href=\"https://colab.research.google.com/github/alu225306-sr/repaso-de-python/blob/main/janispdlc.ipynb\" target=\"_parent\"><img src=\"https://colab.research.google.com/assets/colab-badge.svg\" alt=\"Open In Colab\"/></a>"
      ]
    },
    {
      "cell_type": "code",
      "execution_count": null,
      "metadata": {
        "id": "qPOdNbPB-58l"
      },
      "outputs": [],
      "source": []
    },
    {
      "cell_type": "markdown",
      "source": [
        "realizar un programa que permita capturar tu nombre y lo imprima seguido de una bienvenida"
      ],
      "metadata": {
        "id": "6FDcXE9X_Oe-"
      }
    },
    {
      "cell_type": "code",
      "source": [
        "nombre=input(\"ingresa tu nombre\")\n",
        "print(\"bienvenida\", nombre)"
      ],
      "metadata": {
        "colab": {
          "base_uri": "https://localhost:8080/"
        },
        "id": "b3EQmc_F_eJ0",
        "outputId": "c9e3d03e-dccb-4b54-a865-8bab78ab528a"
      },
      "execution_count": 8,
      "outputs": [
        {
          "output_type": "stream",
          "name": "stdout",
          "text": [
            "ingresa tu nombrejans\n",
            "bienvenida jans\n"
          ]
        }
      ]
    },
    {
      "cell_type": "markdown",
      "source": [
        "realizar un programa que permita capturar 2 numeros enteros que imprima la suma resta multiplicacion y division entre ellos"
      ],
      "metadata": {
        "id": "ZvbWnyNLCrpf"
      }
    },
    {
      "cell_type": "code",
      "source": [
        "num1=int(input(\"ingresa un numero\"))\n",
        "num2=int(input(\"ingresa otro numero\"))\n",
        "s=num1+num2\n",
        "print(\"la suma de \",num1,\"y\",num2,\"es igual a \",s)\n",
        "r=num1-num2\n",
        "print(\"la resta de \",num1,\"y\",num2,\"es igual a \",r)\n",
        "d=num1/num2\n",
        "print(\"la division de \",num1,\"y\",num2,\"es igual a \",d)\n",
        "m=num1*num2\n",
        "print(\"la multiplicacion de \",num1,\"y\",num2,\"es igual a \",m)"
      ],
      "metadata": {
        "colab": {
          "base_uri": "https://localhost:8080/"
        },
        "id": "Fw1T96f-EaIz",
        "outputId": "8d875382-a395-4364-b33d-1fccb4c7e95b"
      },
      "execution_count": 12,
      "outputs": [
        {
          "output_type": "stream",
          "name": "stdout",
          "text": [
            "ingresa un numero4\n",
            "ingresa otro numero2\n",
            "la suma de  4 y 2 es igual a  6\n",
            "la resta de  4 y 2 es igual a  2\n",
            "la division de  4 y 2 es igual a  2.0\n",
            "la multiplicacion de  4 y 2 es igual a  8\n"
          ]
        }
      ]
    }
  ]
}